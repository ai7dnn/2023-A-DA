{
 "cells": [
  {
   "cell_type": "code",
   "execution_count": 1,
   "id": "c49dd668",
   "metadata": {},
   "outputs": [],
   "source": [
    "import sys"
   ]
  },
  {
   "cell_type": "code",
   "execution_count": 46,
   "id": "6b23be24",
   "metadata": {},
   "outputs": [
    {
     "data": {
      "text/plain": [
       "'3.9.13 (main, Aug 25 2022, 23:51:50) [MSC v.1916 64 bit (AMD64)]'"
      ]
     },
     "execution_count": 46,
     "metadata": {},
     "output_type": "execute_result"
    }
   ],
   "source": [
    "sys.version"
   ]
  },
  {
   "cell_type": "code",
   "execution_count": 48,
   "id": "0f981bf0",
   "metadata": {},
   "outputs": [],
   "source": [
    "import site"
   ]
  },
  {
   "cell_type": "code",
   "execution_count": 49,
   "id": "5ade6913",
   "metadata": {},
   "outputs": [
    {
     "data": {
      "text/plain": [
       "['C:\\\\Users\\\\102\\\\anaconda3', 'C:\\\\Users\\\\102\\\\anaconda3\\\\lib\\\\site-packages']"
      ]
     },
     "execution_count": 49,
     "metadata": {},
     "output_type": "execute_result"
    }
   ],
   "source": [
    "site.getsitepackages()"
   ]
  },
  {
   "cell_type": "markdown",
   "id": "e6423c3c",
   "metadata": {},
   "source": [
    "파이썬 자료형"
   ]
  },
  {
   "cell_type": "code",
   "execution_count": 3,
   "id": "53d8df1e",
   "metadata": {},
   "outputs": [
    {
     "data": {
      "text/plain": [
       "str"
      ]
     },
     "execution_count": 3,
     "metadata": {},
     "output_type": "execute_result"
    }
   ],
   "source": [
    "type('Hello')"
   ]
  },
  {
   "cell_type": "code",
   "execution_count": 4,
   "id": "b79db252",
   "metadata": {},
   "outputs": [
    {
     "data": {
      "text/plain": [
       "int"
      ]
     },
     "execution_count": 4,
     "metadata": {},
     "output_type": "execute_result"
    }
   ],
   "source": [
    "type(123)"
   ]
  },
  {
   "cell_type": "code",
   "execution_count": 5,
   "id": "79002604",
   "metadata": {},
   "outputs": [
    {
     "data": {
      "text/plain": [
       "float"
      ]
     },
     "execution_count": 5,
     "metadata": {},
     "output_type": "execute_result"
    }
   ],
   "source": [
    "type(3.6)"
   ]
  },
  {
   "cell_type": "code",
   "execution_count": 6,
   "id": "0aa36142",
   "metadata": {},
   "outputs": [
    {
     "name": "stdout",
     "output_type": "stream",
     "text": [
      "70\n"
     ]
    }
   ],
   "source": [
    "print(10*7)"
   ]
  },
  {
   "cell_type": "code",
   "execution_count": 7,
   "id": "caefbcbe",
   "metadata": {},
   "outputs": [
    {
     "name": "stdout",
     "output_type": "stream",
     "text": [
      "Hi, everyone\n"
     ]
    }
   ],
   "source": [
    "print('Hi, everyone')"
   ]
  },
  {
   "cell_type": "code",
   "execution_count": 8,
   "id": "e20122f3",
   "metadata": {},
   "outputs": [
    {
     "name": "stdout",
     "output_type": "stream",
     "text": [
      "2024\n"
     ]
    }
   ],
   "source": [
    "a = 2024\n",
    "print(a)"
   ]
  },
  {
   "cell_type": "code",
   "execution_count": 9,
   "id": "344078fa",
   "metadata": {},
   "outputs": [
    {
     "name": "stdout",
     "output_type": "stream",
     "text": [
      "여러분 안녕하세요!\n"
     ]
    }
   ],
   "source": [
    "b = '여러분'\n",
    "print(b + ' 안녕하세요!')"
   ]
  },
  {
   "cell_type": "code",
   "execution_count": 10,
   "id": "670090d7",
   "metadata": {},
   "outputs": [
    {
     "name": "stdout",
     "output_type": "stream",
     "text": [
      "2024 년에도 새해 복 많이 받으세요!\n"
     ]
    }
   ],
   "source": [
    "c = '새해'\n",
    "print(a, '년에도 ' + c + ' 복 많이 받으세요!')"
   ]
  },
  {
   "cell_type": "code",
   "execution_count": 11,
   "id": "3c246763",
   "metadata": {},
   "outputs": [
    {
     "name": "stdout",
     "output_type": "stream",
     "text": [
      "2024년에도 새해 복 많이 받으세요!\n"
     ]
    }
   ],
   "source": [
    "c = '새해'\n",
    "print(str(a) + '년에도 ' + c + ' 복 많이 받으세요!')"
   ]
  },
  {
   "cell_type": "markdown",
   "id": "1464ff00",
   "metadata": {},
   "source": [
    "# 표준입력"
   ]
  },
  {
   "cell_type": "code",
   "execution_count": 12,
   "id": "cc413084",
   "metadata": {},
   "outputs": [
    {
     "name": "stdout",
     "output_type": "stream",
     "text": [
      "이름 입력 > 강환수\n"
     ]
    }
   ],
   "source": [
    "name = input('이름 입력 > ')"
   ]
  },
  {
   "cell_type": "code",
   "execution_count": 13,
   "id": "76668872",
   "metadata": {},
   "outputs": [
    {
     "data": {
      "text/plain": [
       "'강환수'"
      ]
     },
     "execution_count": 13,
     "metadata": {},
     "output_type": "execute_result"
    }
   ],
   "source": [
    "name"
   ]
  },
  {
   "cell_type": "markdown",
   "id": "ba5fd776",
   "metadata": {},
   "source": [
    "## 내장 함수"
   ]
  },
  {
   "cell_type": "code",
   "execution_count": 14,
   "id": "ccf76cb4",
   "metadata": {},
   "outputs": [
    {
     "data": {
      "text/plain": [
       "3"
      ]
     },
     "execution_count": 14,
     "metadata": {},
     "output_type": "execute_result"
    }
   ],
   "source": [
    "abs(-3)"
   ]
  },
  {
   "cell_type": "code",
   "execution_count": 15,
   "id": "ac970283",
   "metadata": {},
   "outputs": [
    {
     "data": {
      "text/plain": [
       "True"
      ]
     },
     "execution_count": 15,
     "metadata": {},
     "output_type": "execute_result"
    }
   ],
   "source": [
    "bool('py')"
   ]
  },
  {
   "cell_type": "markdown",
   "id": "c992c9b5",
   "metadata": {},
   "source": [
    "## 반복문"
   ]
  },
  {
   "cell_type": "code",
   "execution_count": 16,
   "id": "de348b3c",
   "metadata": {},
   "outputs": [
    {
     "name": "stdout",
     "output_type": "stream",
     "text": [
      "0\n",
      "2\n",
      "4\n",
      "6\n",
      "8\n"
     ]
    }
   ],
   "source": [
    "for i in range(5):\n",
    "    print(i * 2)"
   ]
  },
  {
   "cell_type": "code",
   "execution_count": 21,
   "id": "05dfeb92",
   "metadata": {},
   "outputs": [
    {
     "name": "stdout",
     "output_type": "stream",
     "text": [
      "1 2 3 4 5 6 7 8 9 10 "
     ]
    }
   ],
   "source": [
    "for i in range(1, 11):\n",
    "    print(i, end=' ')"
   ]
  },
  {
   "cell_type": "code",
   "execution_count": 22,
   "id": "08b117d9",
   "metadata": {},
   "outputs": [
    {
     "name": "stdout",
     "output_type": "stream",
     "text": [
      "1\n",
      "4\n",
      "7\n",
      "10\n"
     ]
    }
   ],
   "source": [
    "for i in range(1, 11, 3):\n",
    "    print(i)"
   ]
  },
  {
   "cell_type": "code",
   "execution_count": 23,
   "id": "afed2a4c",
   "metadata": {},
   "outputs": [
    {
     "name": "stdout",
     "output_type": "stream",
     "text": [
      "10\n",
      "20\n",
      "30\n"
     ]
    }
   ],
   "source": [
    "for i in [10, 20, 30]:\n",
    "    print(i)"
   ]
  },
  {
   "cell_type": "code",
   "execution_count": 24,
   "id": "f368dbc8",
   "metadata": {},
   "outputs": [
    {
     "name": "stdout",
     "output_type": "stream",
     "text": [
      "10\n",
      "20\n",
      "30\n"
     ]
    }
   ],
   "source": [
    "for i in (10, 20, 30):\n",
    "    print(i)"
   ]
  },
  {
   "cell_type": "code",
   "execution_count": 25,
   "id": "ee585211",
   "metadata": {},
   "outputs": [
    {
     "name": "stdout",
     "output_type": "stream",
     "text": [
      "10\n",
      "20\n",
      "30\n"
     ]
    }
   ],
   "source": [
    "for i in {10, 20, 30}:\n",
    "    print(i)"
   ]
  },
  {
   "cell_type": "code",
   "execution_count": 26,
   "id": "6e80bd4f",
   "metadata": {},
   "outputs": [
    {
     "name": "stdout",
     "output_type": "stream",
     "text": [
      "10\n",
      "20\n",
      "30\n"
     ]
    }
   ],
   "source": [
    "for i in {10:'십', 20:'이십', 30:'삼십'}:\n",
    "    print(i)"
   ]
  },
  {
   "cell_type": "code",
   "execution_count": 27,
   "id": "8dcef37f",
   "metadata": {},
   "outputs": [
    {
     "name": "stdout",
     "output_type": "stream",
     "text": [
      "십\n",
      "이십\n",
      "삼십\n"
     ]
    }
   ],
   "source": [
    "data = {10:'십', 20:'이십', 30:'삼십'}\n",
    "for i in data:\n",
    "    print(data[i])"
   ]
  },
  {
   "cell_type": "code",
   "execution_count": 28,
   "id": "25c6d852",
   "metadata": {},
   "outputs": [
    {
     "data": {
      "text/plain": [
       "'십'"
      ]
     },
     "execution_count": 28,
     "metadata": {},
     "output_type": "execute_result"
    }
   ],
   "source": [
    "data[10]"
   ]
  },
  {
   "cell_type": "markdown",
   "id": "9bc3bfb8",
   "metadata": {},
   "source": [
    "## 리스트 "
   ]
  },
  {
   "cell_type": "code",
   "execution_count": 29,
   "id": "071170a3",
   "metadata": {},
   "outputs": [
    {
     "data": {
      "text/plain": [
       "['월', '화', '수', '목', '금', '토', '일']"
      ]
     },
     "execution_count": 29,
     "metadata": {},
     "output_type": "execute_result"
    }
   ],
   "source": [
    "day = list('월화수목금토일')\n",
    "day"
   ]
  },
  {
   "cell_type": "code",
   "execution_count": 30,
   "id": "0bb421a3",
   "metadata": {},
   "outputs": [
    {
     "data": {
      "text/plain": [
       "'목'"
      ]
     },
     "execution_count": 30,
     "metadata": {},
     "output_type": "execute_result"
    }
   ],
   "source": [
    "day[3]"
   ]
  },
  {
   "cell_type": "code",
   "execution_count": 31,
   "id": "cc4889e5",
   "metadata": {},
   "outputs": [
    {
     "data": {
      "text/plain": [
       "'금'"
      ]
     },
     "execution_count": 31,
     "metadata": {},
     "output_type": "execute_result"
    }
   ],
   "source": [
    "day[-3]"
   ]
  },
  {
   "cell_type": "markdown",
   "id": "02151217",
   "metadata": {},
   "source": [
    "#### 슬라이싱(slicing)"
   ]
  },
  {
   "cell_type": "code",
   "execution_count": 34,
   "id": "7fdac59e",
   "metadata": {},
   "outputs": [
    {
     "data": {
      "text/plain": [
       "['화', '수']"
      ]
     },
     "execution_count": 34,
     "metadata": {},
     "output_type": "execute_result"
    }
   ],
   "source": [
    "day[1:3]"
   ]
  },
  {
   "cell_type": "code",
   "execution_count": 35,
   "id": "65a03339",
   "metadata": {},
   "outputs": [
    {
     "data": {
      "text/plain": [
       "['목', '금', '토']"
      ]
     },
     "execution_count": 35,
     "metadata": {},
     "output_type": "execute_result"
    }
   ],
   "source": [
    "day[-4:-1]"
   ]
  },
  {
   "cell_type": "code",
   "execution_count": 36,
   "id": "b0178575",
   "metadata": {},
   "outputs": [
    {
     "data": {
      "text/plain": [
       "['화', '수', '목', '금', '토']"
      ]
     },
     "execution_count": 36,
     "metadata": {},
     "output_type": "execute_result"
    }
   ],
   "source": [
    "day[1:-1]"
   ]
  },
  {
   "cell_type": "code",
   "execution_count": 37,
   "id": "7422332f",
   "metadata": {},
   "outputs": [
    {
     "data": {
      "text/plain": [
       "['화', '목', '토']"
      ]
     },
     "execution_count": 37,
     "metadata": {},
     "output_type": "execute_result"
    }
   ],
   "source": [
    "day[1:6:2]"
   ]
  },
  {
   "cell_type": "code",
   "execution_count": 38,
   "id": "e1642f61",
   "metadata": {},
   "outputs": [
    {
     "data": {
      "text/plain": [
       "['화', '금']"
      ]
     },
     "execution_count": 38,
     "metadata": {},
     "output_type": "execute_result"
    }
   ],
   "source": [
    "day[1:7:3]"
   ]
  },
  {
   "cell_type": "code",
   "execution_count": 39,
   "id": "70aadf60",
   "metadata": {},
   "outputs": [
    {
     "data": {
      "text/plain": [
       "['월', '수', '금']"
      ]
     },
     "execution_count": 39,
     "metadata": {},
     "output_type": "execute_result"
    }
   ],
   "source": [
    "day[-7:-1:2]"
   ]
  },
  {
   "cell_type": "code",
   "execution_count": 40,
   "id": "82f1eafa",
   "metadata": {},
   "outputs": [
    {
     "data": {
      "text/plain": [
       "['월', '화', '수', '목', '금', '토', '일']"
      ]
     },
     "execution_count": 40,
     "metadata": {},
     "output_type": "execute_result"
    }
   ],
   "source": [
    "day[:]"
   ]
  },
  {
   "cell_type": "code",
   "execution_count": 42,
   "id": "e2462590",
   "metadata": {},
   "outputs": [
    {
     "data": {
      "text/plain": [
       "['월', '화', '수', '목', '금', '토', '일']"
      ]
     },
     "execution_count": 42,
     "metadata": {},
     "output_type": "execute_result"
    }
   ],
   "source": [
    "day[::]"
   ]
  },
  {
   "cell_type": "code",
   "execution_count": 43,
   "id": "0a1c8ba6",
   "metadata": {},
   "outputs": [
    {
     "data": {
      "text/plain": [
       "['일', '토', '금', '목', '수', '화', '월']"
      ]
     },
     "execution_count": 43,
     "metadata": {},
     "output_type": "execute_result"
    }
   ],
   "source": [
    "day[::-1]"
   ]
  },
  {
   "cell_type": "code",
   "execution_count": 45,
   "id": "bb30e39c",
   "metadata": {},
   "outputs": [
    {
     "data": {
      "text/plain": [
       "['일', '금', '수', '월']"
      ]
     },
     "execution_count": 45,
     "metadata": {},
     "output_type": "execute_result"
    }
   ],
   "source": [
    "day[-1:-8:-2]"
   ]
  },
  {
   "cell_type": "code",
   "execution_count": null,
   "id": "3d6b5da8",
   "metadata": {},
   "outputs": [],
   "source": []
  }
 ],
 "metadata": {
  "kernelspec": {
   "display_name": "Python 3 (ipykernel)",
   "language": "python",
   "name": "python3"
  },
  "language_info": {
   "codemirror_mode": {
    "name": "ipython",
    "version": 3
   },
   "file_extension": ".py",
   "mimetype": "text/x-python",
   "name": "python",
   "nbconvert_exporter": "python",
   "pygments_lexer": "ipython3",
   "version": "3.9.13"
  }
 },
 "nbformat": 4,
 "nbformat_minor": 5
}
